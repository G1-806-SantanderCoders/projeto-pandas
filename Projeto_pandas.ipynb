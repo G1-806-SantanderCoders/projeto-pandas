{
  "nbformat": 4,
  "nbformat_minor": 0,
  "metadata": {
    "colab": {
      "name": "Projeto_pandas.ipynb",
      "private_outputs": true,
      "provenance": [],
      "collapsed_sections": []
    },
    "kernelspec": {
      "name": "python3",
      "display_name": "Python 3"
    },
    "language_info": {
      "name": "python"
    }
  },
  "cells": [
    {
      "cell_type": "code",
      "metadata": {
        "id": "t82E-VHxojF-"
      },
      "source": [
        "import pandas as pd\n",
        "import numpy as np"
      ],
      "execution_count": null,
      "outputs": []
    },
    {
      "cell_type": "markdown",
      "metadata": {
        "id": "BbozYUSDLCTd"
      },
      "source": [
        "# Importando os dados\n",
        "Obs: é preciso carregar os arquivos no colab"
      ]
    },
    {
      "cell_type": "code",
      "metadata": {
        "id": "sUPHFR7hK4w5"
      },
      "source": [
        "demografico = pd.read_csv('1_demografico.csv',sep=';')\n",
        "demografico.head()"
      ],
      "execution_count": null,
      "outputs": []
    },
    {
      "cell_type": "code",
      "metadata": {
        "id": "IcqobSvYrleV"
      },
      "source": [
        "renda_gastos = pd.read_csv('2_renda_gastos.csv',sep=';')\n",
        "renda_gastos.head()"
      ],
      "execution_count": null,
      "outputs": []
    },
    {
      "cell_type": "code",
      "metadata": {
        "id": "_Zz8HPEgrpf5"
      },
      "source": [
        "bens = pd.read_csv('3_bens.csv',sep=';')\n",
        "bens.head()"
      ],
      "execution_count": null,
      "outputs": []
    },
    {
      "cell_type": "code",
      "metadata": {
        "id": "N43hzYwGtFd7"
      },
      "source": [
        "demografico.shape, renda_gastos.shape, bens.shape"
      ],
      "execution_count": null,
      "outputs": []
    },
    {
      "cell_type": "markdown",
      "metadata": {
        "id": "F0FlHYmqLXls"
      },
      "source": [
        "**Questão 1**\n"
      ]
    },
    {
      "cell_type": "code",
      "metadata": {
        "id": "rIYTDWwluNaa"
      },
      "source": [
        "df_dados = demografico.merge(renda_gastos, how='inner',left_on=['ID','Region'],right_on=['ID','Region'])"
      ],
      "execution_count": null,
      "outputs": []
    },
    {
      "cell_type": "code",
      "metadata": {
        "id": "NvhUJeXDvpar"
      },
      "source": [
        "df_dados.shape"
      ],
      "execution_count": null,
      "outputs": []
    },
    {
      "cell_type": "code",
      "metadata": {
        "id": "YzvIPRquv6CI"
      },
      "source": [
        "df_dados.head()"
      ],
      "execution_count": null,
      "outputs": []
    },
    {
      "cell_type": "code",
      "metadata": {
        "id": "sfJs5HNzwWDx"
      },
      "source": [
        "df_dados = pd.concat([df_dados,bens], axis=1)"
      ],
      "execution_count": null,
      "outputs": []
    },
    {
      "cell_type": "code",
      "metadata": {
        "id": "LzLI8o06xzln"
      },
      "source": [
        "df_dados.shape"
      ],
      "execution_count": null,
      "outputs": []
    },
    {
      "cell_type": "code",
      "metadata": {
        "id": "ID3QC1RQ1NTP"
      },
      "source": [
        "df_dados.dtypes"
      ],
      "execution_count": null,
      "outputs": []
    },
    {
      "cell_type": "code",
      "metadata": {
        "id": "EXddxmM01KDw"
      },
      "source": [
        "df_dados"
      ],
      "execution_count": null,
      "outputs": []
    },
    {
      "cell_type": "markdown",
      "metadata": {
        "id": "1R0uF5s_LvIE"
      },
      "source": [
        "## Questão 2"
      ]
    },
    {
      "cell_type": "code",
      "metadata": {
        "id": "9cKvXH_9LtBi"
      },
      "source": [
        "df_info = df_dados.describe()\n",
        "df_info\n",
        "\n",
        "# TODO: podemos usar o describe ou devemos usar groupby, etc?"
      ],
      "execution_count": null,
      "outputs": []
    },
    {
      "cell_type": "markdown",
      "metadata": {
        "id": "7phLupDlEG6e"
      },
      "source": [
        "## Questão 3"
      ]
    },
    {
      "cell_type": "code",
      "metadata": {
        "id": "1SdV9UFr9BI1"
      },
      "source": [
        "# TODO: utilizar between para criar a mascara\n",
        "def elimina_outliers(serie_original):\n",
        "  serie = serie_original.copy()\n",
        "  estatisticas = serie.describe()\n",
        "\n",
        "  q1 = estatisticas['25%']\n",
        "  q3 = estatisticas['75%']\n",
        "  iqr = q3 - q1\n",
        "  minimum = q1 - 1.5 * iqr\n",
        "  maximum = q3 + 1.5 * iqr\n",
        "\n",
        "  # mascara_minimum = serie < minimum\n",
        "  # mascara_maximum = serie > maximum\n",
        "\n",
        "  # serie[mascara_minimum] = np.NaN \n",
        "  # serie[mascara_maximum] = np.NaN \n",
        "\n",
        "  mascara = serie.between(minimum, maximum, inclusive = True)\n",
        "  serie[~mascara] = np.NaN \n",
        "\n",
        "  return serie"
      ],
      "execution_count": null,
      "outputs": []
    },
    {
      "cell_type": "code",
      "metadata": {
        "id": "US2YTLB3A_Ui"
      },
      "source": [
        "# Separando apenas os dados numáericos\n",
        "df_dados_numericos = df_dados.select_dtypes(include=[np.number]) "
      ],
      "execution_count": null,
      "outputs": []
    },
    {
      "cell_type": "code",
      "metadata": {
        "id": "Ok1eTRMnC8Cl"
      },
      "source": [
        "df_dados_numericos2 = df_dados_numericos.copy()\n",
        "for col in df_dados_numericos.columns:\n",
        "  df_dados_numericos2[col] = elimina_outliers(df_dados_numericos[col])\n"
      ],
      "execution_count": null,
      "outputs": []
    },
    {
      "cell_type": "code",
      "metadata": {
        "id": "RFNR4hBDAl40"
      },
      "source": [
        "df_dados_numericos2.describe()"
      ],
      "execution_count": null,
      "outputs": []
    },
    {
      "cell_type": "code",
      "metadata": {
        "id": "hvYtU9v8_YKf"
      },
      "source": [
        "# TODO: ver como funciona o apply \n",
        "# isso até parece funcionar, mas demora demais\n",
        "\n",
        "df_dados_numericos3 = df_dados_numericos.copy()\n",
        "df_dados_numericos3 = df_dados_numericos3.apply(elimina_outliers, axis=1,raw=False)\n",
        "\n",
        "df_dados_numericos3.describe()\n"
      ],
      "execution_count": null,
      "outputs": []
    },
    {
      "cell_type": "markdown",
      "metadata": {
        "id": "lts369eZElMx"
      },
      "source": [
        "## Questão 4"
      ]
    },
    {
      "cell_type": "code",
      "metadata": {
        "id": "OFGhrVKbDmIX"
      },
      "source": [
        "def transforma_outliers_em_mediana(serie_original):\n",
        "  serie = serie_original.copy()\n",
        "  estatisticas = serie.describe()\n",
        "\n",
        "  q1 = estatisticas['25%']\n",
        "  q3 = estatisticas['75%']\n",
        "  iqr = q3 - q1\n",
        "  minimum = q1 - 1.5 * iqr\n",
        "  maximum = q3 + 1.5 * iqr\n",
        "  mascara_minimum = serie < minimum\n",
        "  mascara_maximum = serie > maximum\n",
        "\n",
        "  serie[mascara_minimum] = serie.median() \n",
        "  serie[mascara_maximum] = serie.median()\n",
        "\n",
        "  return serie"
      ],
      "execution_count": null,
      "outputs": []
    },
    {
      "cell_type": "code",
      "metadata": {
        "id": "q8HUydg4E9yq"
      },
      "source": [
        "# TODO: ver como funciona o apply\n",
        "#df_dados_numericos.apply(elimina_outliers, axis=1)\n",
        "\n",
        "df_dados_numericos3 = df_dados_numericos.copy()\n",
        "for col in df_dados_numericos.columns:\n",
        "  df_dados_numericos3[col] = transforma_outliers_em_mediana(df_dados_numericos[col])"
      ],
      "execution_count": null,
      "outputs": []
    },
    {
      "cell_type": "code",
      "metadata": {
        "id": "Q4q6YCfcFIl8"
      },
      "source": [
        "df_dados_numericos3.describe()"
      ],
      "execution_count": null,
      "outputs": []
    },
    {
      "cell_type": "markdown",
      "metadata": {
        "id": "PLg3TSBkj0I4"
      },
      "source": [
        "### Questão 5"
      ]
    },
    {
      "cell_type": "code",
      "metadata": {
        "id": "4_h3JHHqj1fn"
      },
      "source": [
        "df_nao_numericos = df_dados.select_dtypes(exclude=[np.number]) \n",
        "df_nao_numericos.head()"
      ],
      "execution_count": null,
      "outputs": []
    },
    {
      "cell_type": "code",
      "metadata": {
        "id": "RhvtG9dimvmP"
      },
      "source": [
        "def relatorio_q5(df, col):\n",
        "    freq_abs = df[col].value_counts()\n",
        "    freq_abs.name = 'FreqAbs'\n",
        "    freq_rel = round((df[col].value_counts()/len(df)),2)\n",
        "    freq_rel.name = 'FreqRel'\n",
        "    freq_relp = freq_rel*100\n",
        "    freq_relp.name = 'FreqRel%'\n",
        "    freq_rel_acum = round((df[col].value_counts()/len(df)).cumsum(),2)\n",
        "    freq_rel_acum.name = 'FreqRelAcum'\n",
        "    relatorio5 = pd.concat([freq_abs,freq_rel,freq_relp,freq_rel_acum ],axis=1)\n",
        "    relatorio5.index.name = col\n",
        "    relatorio5.loc[\"Total\"] = relatorio5.sum()\n",
        "    relatorio5.loc[\"Total\"]['FreqRelAcum'] = 1\n",
        "    return relatorio5"
      ],
      "execution_count": null,
      "outputs": []
    },
    {
      "cell_type": "code",
      "metadata": {
        "id": "UEnwuWo7s0eC"
      },
      "source": [
        "for col in df_nao_numericos:\n",
        "    display(relatorio_q5(df_nao_numericos, col))\n",
        "    print()\n",
        "    print()"
      ],
      "execution_count": null,
      "outputs": []
    },
    {
      "cell_type": "markdown",
      "metadata": {
        "id": "s3Ph0x_OVRnT"
      },
      "source": [
        "## Questão 6"
      ]
    },
    {
      "cell_type": "code",
      "metadata": {
        "id": "NR854xgtszQh"
      },
      "source": [
        "quantil_90 = df_dados['Total Household Income'].quantile(0.9)\n",
        "maiores_10 = df_dados['Total Household Income'] > quantil_90\n",
        "df_maiores = df_dados[maiores_10]\n",
        "df_maiores.to_csv('out_10_maiores_rendas.csv')"
      ],
      "execution_count": null,
      "outputs": []
    },
    {
      "cell_type": "markdown",
      "metadata": {
        "id": "G-YO1SCyWvN5"
      },
      "source": [
        "## Questão 7"
      ]
    },
    {
      "cell_type": "markdown",
      "metadata": {
        "id": "A9b04uZgglAe"
      },
      "source": [
        "### Exploração de dados"
      ]
    },
    {
      "cell_type": "code",
      "metadata": {
        "id": "-TOmnVFuYSR5"
      },
      "source": [
        "import seaborn as sns"
      ],
      "execution_count": null,
      "outputs": []
    },
    {
      "cell_type": "code",
      "metadata": {
        "id": "ykGKnVgtZJ49"
      },
      "source": [
        "# sns.boxplot(data=df_dados[df_dados['Total Household Income']<0.2e7], x='Total Household Income', y='Type of Building/House')\n",
        "sns.histplot(x='Total Household Income', data=df_dados, kde=True, hue = 'Type of Building/House', log_scale=True)"
      ],
      "execution_count": null,
      "outputs": []
    },
    {
      "cell_type": "code",
      "metadata": {
        "id": "C4dtgSFybIbT"
      },
      "source": [
        "# sns.boxplot(data=df_dados[df_dados['Total Household Income']<0.2e7], x='Total Household Income', y='Household Head Marital Status')\n",
        "sns.histplot(x='Total Household Income', data=df_dados, kde=True, hue = 'Household Head Marital Status', log_scale=True)"
      ],
      "execution_count": null,
      "outputs": []
    },
    {
      "cell_type": "code",
      "metadata": {
        "id": "m2vnD_kxbbHS"
      },
      "source": [
        "# sns.boxplot(data=df_dados[df_dados['Total Household Income']<0.2e7], x='Total Household Income', y='Main Source of Income')\n",
        "sns.histplot(x='Total Household Income', data=df_dados, kde=True, hue = 'Main Source of Income', log_scale=True)"
      ],
      "execution_count": null,
      "outputs": []
    },
    {
      "cell_type": "code",
      "metadata": {
        "id": "tkdoKB5pfJ4T"
      },
      "source": [
        "sns.histplot(x='Total Household Income', data=df_dados, kde=True, hue = 'Type of Household', log_scale=True)"
      ],
      "execution_count": null,
      "outputs": []
    },
    {
      "cell_type": "code",
      "metadata": {
        "id": "t3gKSELwU0yq"
      },
      "source": [
        "# sns.boxplot(data=df_dados[df_dados['Total Household Income']<0.2e7], x='Total Household Income', y='Household Head Sex')\n",
        "sns.histplot(x='Total Household Income', data=df_dados, kde=True, hue = 'Household Head Sex', log_scale=True)"
      ],
      "execution_count": null,
      "outputs": []
    },
    {
      "cell_type": "markdown",
      "metadata": {
        "id": "70edGs_KgrQD"
      },
      "source": [
        "### Solução da questão"
      ]
    },
    {
      "cell_type": "code",
      "metadata": {
        "id": "4v6j25i_gtz-"
      },
      "source": [
        "df_dummies = pd.get_dummies(df_dados, columns= ['Household Head Sex','Type of Household','Main Source of Income'])\n",
        "df_dummies.head()"
      ],
      "execution_count": null,
      "outputs": []
    },
    {
      "cell_type": "markdown",
      "metadata": {
        "id": "_s9b8es7h_zn"
      },
      "source": [
        "## Questão 8"
      ]
    },
    {
      "cell_type": "code",
      "metadata": {
        "id": "EaG6Dgkxi0Oq"
      },
      "source": [
        "df_nao_maiores = df_dados[~maiores_10]"
      ],
      "execution_count": null,
      "outputs": []
    },
    {
      "cell_type": "code",
      "metadata": {
        "id": "njwazV5Ai_zc"
      },
      "source": [
        "df_maiores_dummies = pd.get_dummies(df_maiores, columns= ['Household Head Sex','Type of Household','Main Source of Income'])\n",
        "df_nao_maiores_dummies = pd.get_dummies(df_nao_maiores, columns= ['Household Head Sex','Type of Household','Main Source of Income'])"
      ],
      "execution_count": null,
      "outputs": []
    },
    {
      "cell_type": "code",
      "metadata": {
        "id": "cvw6J-lZjIoF"
      },
      "source": [
        "media_maiores = df_maiores_dummies.mean()\n",
        "media_nao_maiores = df_nao_maiores_dummies.mean()"
      ],
      "execution_count": null,
      "outputs": []
    },
    {
      "cell_type": "code",
      "metadata": {
        "id": "grmcsOvfiB19"
      },
      "source": [
        "df_comparacao = pd.DataFrame({'maiores':media_maiores, 'nao_maiores':media_nao_maiores})\n",
        "df_comparacao"
      ],
      "execution_count": null,
      "outputs": []
    },
    {
      "cell_type": "code",
      "metadata": {
        "id": "xHNDdN1RhndW"
      },
      "source": [
        "df_normalizado = df_comparacao['maiores']/df_comparacao['nao_maiores']-1"
      ],
      "execution_count": null,
      "outputs": []
    },
    {
      "cell_type": "code",
      "metadata": {
        "id": "uOitrSxdghI6"
      },
      "source": [
        "df_normalizado"
      ],
      "execution_count": null,
      "outputs": []
    },
    {
      "cell_type": "markdown",
      "metadata": {
        "id": "GTjW3OrGQs6n"
      },
      "source": [
        "A população com mais renda:\n",
        "- Tem casas maiores e com mais quartos\n",
        "- Gasta mais em todas as categorias (que tem Expeditures no nome)\n",
        "- Ganha mais em fonte de renda extra (Total Income from Entrepreneurial Acitivites)\n",
        "- Mas tem menos casos onde empreendedorismo é a fonte principal de renda\n",
        "- Tem mais mulheres liderando a família\n"
      ]
    }
  ]
}